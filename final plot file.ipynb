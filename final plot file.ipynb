{
 "cells": [
  {
   "cell_type": "code",
   "execution_count": null,
   "metadata": {},
   "outputs": [],
   "source": [
    "from system_folder.import_system import *\n",
    "%matplotlib ipympl\n",
    "\n",
    "n =5\n",
    "nr=2\n",
    "m =n*nr\n",
    "\n",
    "try:\n",
    "    th_array_ = np.load(\"arrays/th_array.npy\")\n",
    "except:\n",
    "    Nth = 133\n",
    "    th_array_ = np.linspace(0, 2*np.pi, Nth)\n",
    "    np.save(\"arrays/th_array.npy\", th_array_)\n",
    "\n",
    "th0i_ = len(th_array_)//2\n",
    "\n",
    "recalculate_data = False\n",
    "save_figures = False"
   ]
  },
  {
   "attachments": {},
   "cell_type": "markdown",
   "metadata": {},
   "source": [
    "##### DoS"
   ]
  },
  {
   "cell_type": "code",
   "execution_count": null,
   "metadata": {},
   "outputs": [],
   "source": [
    "k_GKMG = get_k_GKMG(None, None, nok=100)\n",
    "Qs_GKMG = get_Qs(k_GKMG, None, None)\n",
    "Qs_pts = get_symmetry_pts_GMKG(None, None, Qs_GKMG, k_GKMG)\n",
    "epsilon = eDR_np(k_GKMG[:,0], k_GKMG[:,1], eta=0, a=1)\n",
    "\n",
    "create_DoS_plot(epsilon, Qs_GKMG, Qs_pts, save_fig=save_figures, recalculate=recalculate_data)"
   ]
  },
  {
   "attachments": {},
   "cell_type": "markdown",
   "metadata": {},
   "source": [
    "##### Electron dispersion relation $\\epsilon_{\\mathbf{k}}$"
   ]
  },
  {
   "cell_type": "code",
   "execution_count": null,
   "metadata": {},
   "outputs": [],
   "source": [
    "create_electron_dispersion(etas=[-5.9, -5.43], save_fig=save_figures, recalculate=recalculate_data)"
   ]
  },
  {
   "attachments": {},
   "cell_type": "markdown",
   "metadata": {},
   "source": [
    "##### Magnon plot, sorted"
   ]
  },
  {
   "cell_type": "code",
   "execution_count": null,
   "metadata": {},
   "outputs": [],
   "source": [
    "plot_magnon_spectrum_GXSYG(period=n, nrows=n_chains, save=save_figures, plotLegend=False, \\\n",
    "                           plotBZ=True, coloured=True, shorter=True, recalculate_data=False)\n"
   ]
  },
  {
   "attachments": {},
   "cell_type": "markdown",
   "metadata": {},
   "source": [
    "##### Electron dispersion and Umklapp illustration"
   ]
  },
  {
   "cell_type": "code",
   "execution_count": null,
   "metadata": {},
   "outputs": [],
   "source": [
    "create_Umklapp_electron_dispersion(th0i=th0i_, etas=[-5.9, -5.43], period=n, \\\n",
    "                                   save_fig=save_figures, recalculate=recalculate_data)"
   ]
  },
  {
   "attachments": {},
   "cell_type": "markdown",
   "metadata": {},
   "source": [
    "##### mBZs filling eBZs"
   ]
  },
  {
   "cell_type": "code",
   "execution_count": null,
   "metadata": {},
   "outputs": [],
   "source": [
    "plot_mBZs_filling_eBZ1(period=n, save=save_figures)"
   ]
  },
  {
   "attachments": {},
   "cell_type": "markdown",
   "metadata": {},
   "source": [
    "##### Effective potential $V^{\\sigma_1\\sigma_2\\sigma_3\\sigma_4}_{k^\\prime k}$\n",
    "\n",
    "You may change \n",
    "\n",
    "        part_vals: {\"real_vals\", \"imag_vals}\n",
    "\n",
    "for real and imaginary parts of the potential, respectively; and\n",
    "\n",
    "        see_all_lines: {True, False}\n",
    "\n",
    "to see all lines distinguished, or the tidier plot; and\n",
    "\n",
    "        eta: {-5.9,-5.43}\n",
    "\n",
    "for the small and large Fermi surfaces, respectively."
   ]
  },
  {
   "cell_type": "code",
   "execution_count": null,
   "metadata": {},
   "outputs": [],
   "source": [
    "eta=-5.9\n",
    "\n",
    "plot_Veff_FS(th_array_, th0i=th0i_, eta=eta, \\\n",
    "                do_print=False, disable_tqdm=False,\\\n",
    "                save=save_figures, part_vals=\"real_vals\", see_all_lines=False)\n"
   ]
  },
  {
   "attachments": {},
   "cell_type": "markdown",
   "metadata": {},
   "source": [
    "##### Barred effective potential $\\bar{V}^{\\sigma_1\\sigma_2\\sigma_3\\sigma_4}_{k^\\prime k}$\n",
    "\n",
    "As above: you may change \n",
    "\n",
    "        part_vals: {\"real_vals\", \"imag_vals}\n",
    "\n",
    "for real and imaginary parts of the potential, respectively; and\n",
    "\n",
    "        see_all_lines: {True, False}\n",
    "\n",
    "to see all lines distinguished, or the tidier plot; and\n",
    "\n",
    "        eta: {-5.9,-5.43}\n",
    "\n",
    "for the small and large Fermi surfaces, respectively."
   ]
  },
  {
   "cell_type": "code",
   "execution_count": null,
   "metadata": {},
   "outputs": [],
   "source": [
    "eta=-5.9\n",
    "\n",
    "plot_Veffbar_FS(th_array_, th0i_, eta, \\\n",
    "                do_print=False, disable_tqdm=False,\\\n",
    "                save=save_figures, part_vals=\"real_vals\", see_all_lines=False)"
   ]
  },
  {
   "attachments": {},
   "cell_type": "markdown",
   "metadata": {},
   "source": [
    "##### Coupling matrix elements: $\\mathcal{V}[r,c]$\n",
    "\n",
    "You may change \n",
    "\n",
    "        varykp: {True, False}\n",
    "\n",
    "to plot for varying $\\mathbf{k}'$ or $\\mathbf{k}$, respectively; and\n",
    "\n",
    "        eta: {-5.9,-5.43}\n",
    "\n",
    "for the small and large Fermi surfaces, respectively."
   ]
  },
  {
   "cell_type": "code",
   "execution_count": null,
   "metadata": {},
   "outputs": [],
   "source": [
    "eta=-5.9   ## varyk\n",
    "\n",
    "plot_coupling_functions_FS(th_array_, th0i_, eta, \\\n",
    "                           save=save_figures, varykp=False)"
   ]
  },
  {
   "attachments": {},
   "cell_type": "markdown",
   "metadata": {},
   "source": [
    "##### Gaps $\\Delta(\\theta)$\n",
    "\n",
    "You may change \n",
    "\n",
    "        eta: {-5.9,-5.43}\n",
    "\n",
    "for the small and large Fermi surfaces, respectively."
   ]
  },
  {
   "cell_type": "code",
   "execution_count": null,
   "metadata": {},
   "outputs": [],
   "source": [
    "eta=-5.9\n",
    "\n",
    "lambda_, Delta = get_lambda_Delta(eta, th_array_)\n",
    "plot_gaps(eta, Delta, th_array_, save_fig=save_figures)\n",
    "print(f\"For mu/t={eta}: lambda={lambda_},  Tc={get_Tc_linearised(eta, th_array_)}\")"
   ]
  }
 ],
 "metadata": {
  "kernelspec": {
   "display_name": "base",
   "language": "python",
   "name": "python3"
  },
  "language_info": {
   "codemirror_mode": {
    "name": "ipython",
    "version": 3
   },
   "file_extension": ".py",
   "mimetype": "text/x-python",
   "name": "python",
   "nbconvert_exporter": "python",
   "pygments_lexer": "ipython3",
   "version": "3.7.16"
  },
  "orig_nbformat": 4
 },
 "nbformat": 4,
 "nbformat_minor": 2
}
