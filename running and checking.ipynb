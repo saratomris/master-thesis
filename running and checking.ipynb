{
 "cells": [
  {
   "cell_type": "code",
   "execution_count": null,
   "metadata": {},
   "outputs": [],
   "source": [
    "from system_folder.import_system import *\n",
    "\n",
    "PUM = create_para_unit_matrix(m)\n",
    "\n",
    "Nth = 133\n",
    "th_array_ = np.linspace(0,2*np.pi, Nth)\n",
    "np.save(f\"arrays/th_array.npy\", th_array_)"
   ]
  },
  {
   "attachments": {},
   "cell_type": "markdown",
   "metadata": {},
   "source": [
    "### Fermi surface"
   ]
  },
  {
   "attachments": {},
   "cell_type": "markdown",
   "metadata": {},
   "source": [
    "##### Fermi surface with $\\eta=-5.9$"
   ]
  },
  {
   "cell_type": "code",
   "execution_count": null,
   "metadata": {},
   "outputs": [],
   "source": [
    "eta = -5.9\n",
    "\n",
    "subfolder = f\"FS with  eta={eta}\"\n",
    "Veff_folder = \"Veff_matrices\"\n",
    "Veffbar_folder = \"Veffbar_matrices\"\n",
    "\n",
    "print(\"Running q, omega, and Tinv...\", end='\\r')\n",
    "q_FS, Qnu_array = get_q_Qnu_FS(subfolder, [\"q_array\", \"Qnu_array\", \"kp_array\", \"k_\"],\\\n",
    "                            th_array_, th0i=0, eta=eta, disable_tqdm=True, k_sign_=+1, kp_sign_=+1)\n",
    "Qs = get_Qs(q_FS, subfolder, \"Qs\")\n",
    "omegas_, Tinv_ = get_2m_bands(q_FS, subfolder, [\"omegas\", \"Tinv\"], disable_tqdm_qs=True, k_sign_=+1, kp_sign_=+1)\n",
    "\n",
    "print(\"Checking stuff:              \")\n",
    "omegas_n_,_ = get_2m_bands(-q_FS, subfolder, filenames_=None, disable_tqdm_qs=True)\n",
    "print(u\"\\u03C9_q == \\u03C9_-q: \", (np.around(omegas_ - omegas_n_, 14) == 0).all(), \": inversjonssymmetri om q!\", sep='' )\n",
    "check_correspondence(q_FS, Tinv_, omegas_, n, n_chains)\n",
    "check_diagonalisation_condition_all(q_FS, Tinv_, omegas_, n, n_chains)\n",
    "check_bosonic_all(q_FS, Tinv_, PUM)\n",
    "\n",
    "print(\"\\nRunning Nu matrix...\")\n",
    "Nu = get_Nu_fullMatrix(eta, th_array_, recalculate=False)\n",
    "np.save(f\"arrays/FS with  eta={eta}/coupling matrix\", Nu)\n",
    "\n",
    "print(\"Done!\")"
   ]
  },
  {
   "attachments": {},
   "cell_type": "markdown",
   "metadata": {},
   "source": [
    "##### Fermi surface with $\\eta$ = -5.43"
   ]
  },
  {
   "cell_type": "code",
   "execution_count": null,
   "metadata": {},
   "outputs": [],
   "source": [
    "eta = -5.43\n",
    "\n",
    "subfolder = f\"FS with  eta={eta}\"\n",
    "Veff_folder = \"Veff_matrices\"\n",
    "Veffbar_folder = \"Veffbar_matrices\"\n",
    "\n",
    "print(\"Running q, omega, and Tinv...\", end='\\r')\n",
    "q_FS, Qnu_array = get_q_Qnu_FS(subfolder, [\"q_array\", \"Qnu_array\", \"kp_array\", \"k_\"],\\\n",
    "                            th_array_, th0i=0, eta=eta, disable_tqdm=True, k_sign_=+1, kp_sign_=+1)\n",
    "Qs = get_Qs(q_FS, subfolder, \"Qs\")\n",
    "omegas_, Tinv_ = get_2m_bands(q_FS, subfolder, [\"omegas\", \"Tinv\"], disable_tqdm_qs=True, k_sign_=+1, kp_sign_=+1)\n",
    "\n",
    "print(\"Checking stuff:              \")\n",
    "omegas_n_,_ = get_2m_bands(-q_FS, subfolder, filenames_=None, disable_tqdm_qs=True)\n",
    "print(u\"\\u03C9_q == \\u03C9_-q: \", (np.around(omegas_ - omegas_n_, 14) == 0).all(), \": inversjonssymmetri om q!\", sep='' )\n",
    "check_correspondence(q_FS, Tinv_, omegas_, n, n_chains)\n",
    "check_diagonalisation_condition_all(q_FS, Tinv_, omegas_, n, n_chains)\n",
    "check_bosonic_all(q_FS, Tinv_, PUM)\n",
    "\n",
    "\n",
    "print(\"\\nRunning Nu matrix...\")\n",
    "Nu = get_Nu_fullMatrix(eta, th_array_, recalculate=False)\n",
    "np.save(f\"arrays/FS with  eta={eta}/coupling matrix\", Nu)\n",
    "\n",
    "print(\"Done!\")"
   ]
  },
  {
   "attachments": {},
   "cell_type": "markdown",
   "metadata": {},
   "source": [
    "##### Other $\\mu/t$:"
   ]
  },
  {
   "cell_type": "code",
   "execution_count": null,
   "metadata": {},
   "outputs": [],
   "source": [
    "eta = -5.7\n",
    "\n",
    "subfolder = f\"FS with  eta={eta}\"\n",
    "Veff_folder = \"Veff_arrays\"\n",
    "Veffbar_folder = \"Veffbar_arrays\"\n",
    "\n",
    "print(\"Running q, omega, and Tinv...\", end='\\r')\n",
    "q_FS, Qnu_array = get_q_Qnu_FS(subfolder, [\"q_array\", \"Qnu_array\", \"kp_array\", \"k_\"],\\\n",
    "                            th_array_, th0i=0, eta=eta, disable_tqdm=True, k_sign_=+1, kp_sign_=+1)\n",
    "Qs = get_Qs(q_FS, subfolder, \"Qs\")\n",
    "omegas_, Tinv_ = get_2m_bands(q_FS, subfolder, [\"omegas\", \"Tinv\"], disable_tqdm_qs=True, k_sign_=+1, kp_sign_=+1)\n",
    "\n",
    "print(\"Checking stuff:              \")\n",
    "omegas_n_,_ = get_2m_bands(-q_FS, subfolder, filenames_=None, disable_tqdm_qs=True)\n",
    "print(u\"\\u03C9_q == \\u03C9_-q: \", (np.around(omegas_ - omegas_n_, 14) == 0).all(), \": inversjonssymmetri om q!\", sep='' )\n",
    "check_correspondence(q_FS, Tinv_, omegas_, n, n_chains)\n",
    "check_diagonalisation_condition_all(q_FS, Tinv_, omegas_, n, n_chains)\n",
    "check_bosonic_all(q_FS, Tinv_, PUM)\n",
    "\n",
    "\n",
    "print(\"\\nRunning Nu matrix...\")\n",
    "Nu = get_Nu_fullMatrix(eta, th_array_, recalculate=True)\n",
    "np.save(f\"arrays/FS with  eta={eta}/coupling matrix\", Nu)\n",
    "\n",
    "print(\"Done!\")"
   ]
  },
  {
   "cell_type": "code",
   "execution_count": null,
   "metadata": {},
   "outputs": [],
   "source": [
    "eta = -5.5\n",
    "\n",
    "subfolder = f\"FS with  eta={eta}\"\n",
    "Veff_folder = \"Veff_arrays\"\n",
    "Veffbar_folder = \"Veffbar_arrays\"\n",
    "\n",
    "print(\"Running q, omega, and Tinv...\", end='\\r')\n",
    "q_FS, Qnu_array = get_q_Qnu_FS(subfolder, [\"q_array\", \"Qnu_array\", \"kp_array\", \"k_\"],\\\n",
    "                            th_array_, th0i=0, eta=eta, disable_tqdm=True, k_sign_=+1, kp_sign_=+1)\n",
    "Qs = get_Qs(q_FS, subfolder, \"Qs\")\n",
    "omegas_, Tinv_ = get_2m_bands(q_FS, subfolder, [\"omegas\", \"Tinv\"], disable_tqdm_qs=True, k_sign_=+1, kp_sign_=+1)\n",
    "\n",
    "print(\"Checking stuff:              \")\n",
    "omegas_n_,_ = get_2m_bands(-q_FS, subfolder, filenames_=None, disable_tqdm_qs=True)\n",
    "print(u\"\\u03C9_q == \\u03C9_-q: \", (np.around(omegas_ - omegas_n_, 14) == 0).all(), \": inversjonssymmetri om q!\", sep='' )\n",
    "check_correspondence(q_FS, Tinv_, omegas_, n, n_chains)\n",
    "check_diagonalisation_condition_all(q_FS, Tinv_, omegas_, n, n_chains)\n",
    "check_bosonic_all(q_FS, Tinv_, PUM)\n",
    "\n",
    "\n",
    "print(\"\\nRunning Nu matrix...\")\n",
    "Nu = get_Nu_fullMatrix(eta, th_array_, recalculate=True)\n",
    "np.save(f\"arrays/FS with  eta={eta}/coupling matrix\", Nu)\n",
    "\n",
    "print(\"Done!\")"
   ]
  },
  {
   "cell_type": "code",
   "execution_count": null,
   "metadata": {},
   "outputs": [],
   "source": [
    "eta = -5.99\n",
    "\n",
    "subfolder = f\"FS with  eta={eta}\"\n",
    "Veff_folder = \"Veff_arrays\"\n",
    "Veffbar_folder = \"Veffbar_arrays\"\n",
    "\n",
    "print(\"Running q, omega, and Tinv...\", end='\\r')\n",
    "q_FS, Qnu_array = get_q_Qnu_FS(subfolder, [\"q_array\", \"Qnu_array\", \"kp_array\", \"k_\"],\\\n",
    "                            th_array_, th0i=0, eta=eta, disable_tqdm=True, k_sign_=+1, kp_sign_=+1)\n",
    "Qs = get_Qs(q_FS, subfolder, \"Qs\")\n",
    "omegas_, Tinv_ = get_2m_bands(q_FS, subfolder, [\"omegas\", \"Tinv\"], disable_tqdm_qs=True, k_sign_=+1, kp_sign_=+1)\n",
    "\n",
    "print(\"Checking stuff:              \")\n",
    "omegas_n_,_ = get_2m_bands(-q_FS, subfolder, filenames_=None, disable_tqdm_qs=True)\n",
    "print(u\"\\u03C9_q == \\u03C9_-q: \", (np.around(omegas_ - omegas_n_, 14) == 0).all(), \": inversjonssymmetri om q!\", sep='' )\n",
    "check_correspondence(q_FS, Tinv_, omegas_, n, n_chains)\n",
    "check_diagonalisation_condition_all(q_FS, Tinv_, omegas_, n, n_chains)\n",
    "check_bosonic_all(q_FS, Tinv_, PUM)\n",
    "\n",
    "\n",
    "print(\"\\nRunning Nu matrix...\")\n",
    "Nu = get_Nu_fullMatrix(eta, th_array_, recalculate=True)\n",
    "np.save(f\"arrays/FS with  eta={eta}/coupling matrix\", Nu)\n",
    "\n",
    "print(\"Done!\")"
   ]
  },
  {
   "attachments": {},
   "cell_type": "markdown",
   "metadata": {},
   "source": [
    "### High-symmetry points: GXSYG"
   ]
  },
  {
   "cell_type": "code",
   "execution_count": null,
   "metadata": {},
   "outputs": [],
   "source": [
    "subfolder = \"GXSYG, n5, nox50, noy100\"\n",
    "\n",
    "n=5\n",
    "nr=2\n",
    "\n",
    "print(\"kjører q...\", end='\\r')\n",
    "q_GXSYG = get_q_GXSYG(subfolder, \"q_array\", nox=50, noy=100, bz_x=BZ_x, bz_y=BZ_y)\n",
    "Qs_GXSYG = get_Qs(q_GXSYG, subfolder, \"Qs\")\n",
    "Qs_pts = get_symmetry_pts_GXSYG(subfolder, \"Qs_pts\", Qs_GXSYG, q_GXSYG)\n",
    "print(\"Kjørt!                   \", end='\\r')\n",
    "\n",
    "print(\"kjører omega og Tinv...\", end='\\r')\n",
    "omegas_GXSYG, Tinv_GXSYG = get_2m_bands(q_GXSYG, subfolder, [\"omegas\", \"Tinv\"], disable_tqdm_qs=True)\n",
    "print(\"Kjørt!                  \", end='\\r')\n"
   ]
  },
  {
   "cell_type": "code",
   "execution_count": null,
   "metadata": {},
   "outputs": [],
   "source": [
    "omegas_GXSYG_n,_ = get_2m_bands(-q_GXSYG, subfolder, filenames_=None, disable_tqdm_qs=True)\n",
    "\n",
    "print(u\"\\u03C9_q == \\u03C9_-q: \", (np.around(omegas_GXSYG - omegas_GXSYG_n, 14) == 0).all(), \": inversjonssymmetri om q!\", sep='' )\n",
    "check_correspondence(q_GXSYG, Tinv_GXSYG, omegas_GXSYG, n, nr)\n",
    "check_diagonalisation_condition_all(q_GXSYG, Tinv_GXSYG, omegas_GXSYG, n, nr)\n",
    "check_bosonic_all(q_GXSYG, Tinv_GXSYG, PUM)"
   ]
  }
 ],
 "metadata": {
  "kernelspec": {
   "display_name": "base",
   "language": "python",
   "name": "python3"
  },
  "language_info": {
   "codemirror_mode": {
    "name": "ipython",
    "version": 3
   },
   "file_extension": ".py",
   "mimetype": "text/x-python",
   "name": "python",
   "nbconvert_exporter": "python",
   "pygments_lexer": "ipython3",
   "version": "3.7.16"
  },
  "orig_nbformat": 4
 },
 "nbformat": 4,
 "nbformat_minor": 2
}
